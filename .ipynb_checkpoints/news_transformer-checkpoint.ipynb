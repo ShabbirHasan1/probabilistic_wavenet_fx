{
 "cells": [
  {
   "cell_type": "markdown",
   "metadata": {},
   "source": [
    "# !!! UNDER DEVELOPMENT !!!"
   ]
  },
  {
   "cell_type": "markdown",
   "metadata": {},
   "source": [
    "# Economic news clearing"
   ]
  },
  {
   "cell_type": "code",
   "execution_count": 88,
   "metadata": {},
   "outputs": [],
   "source": [
    "import pandas as pd\n",
    "import numpy as np\n",
    "from datetime import datetime\n",
    "import string"
   ]
  },
  {
   "cell_type": "code",
   "execution_count": 89,
   "metadata": {},
   "outputs": [],
   "source": [
    "df = pd.read_csv('news_data/news_data.csv')"
   ]
  },
  {
   "cell_type": "code",
   "execution_count": 90,
   "metadata": {},
   "outputs": [
    {
     "data": {
      "text/html": [
       "<div>\n",
       "<style scoped>\n",
       "    .dataframe tbody tr th:only-of-type {\n",
       "        vertical-align: middle;\n",
       "    }\n",
       "\n",
       "    .dataframe tbody tr th {\n",
       "        vertical-align: top;\n",
       "    }\n",
       "\n",
       "    .dataframe thead th {\n",
       "        text-align: right;\n",
       "    }\n",
       "</style>\n",
       "<table border=\"1\" class=\"dataframe\">\n",
       "  <thead>\n",
       "    <tr style=\"text-align: right;\">\n",
       "      <th></th>\n",
       "      <th>Date</th>\n",
       "      <th>Event</th>\n",
       "      <th>Impact</th>\n",
       "      <th>Previous</th>\n",
       "      <th>Consensus</th>\n",
       "      <th>Actual</th>\n",
       "      <th>Currency</th>\n",
       "    </tr>\n",
       "  </thead>\n",
       "  <tbody>\n",
       "    <tr>\n",
       "      <th>0</th>\n",
       "      <td>2016, January 04, 07:00</td>\n",
       "      <td>(Austria) Unemployment</td>\n",
       "      <td>High</td>\n",
       "      <td>359.30K</td>\n",
       "      <td>NaN</td>\n",
       "      <td>417.50K</td>\n",
       "      <td>EUR</td>\n",
       "    </tr>\n",
       "    <tr>\n",
       "      <th>1</th>\n",
       "      <td>2016, January 04, 08:15</td>\n",
       "      <td>(Spain) Markit Manufacturing PMI</td>\n",
       "      <td>High</td>\n",
       "      <td>53.10</td>\n",
       "      <td>NaN</td>\n",
       "      <td>53.00</td>\n",
       "      <td>EUR</td>\n",
       "    </tr>\n",
       "    <tr>\n",
       "      <th>2</th>\n",
       "      <td>2016, January 04, 08:45</td>\n",
       "      <td>(Italy) Markit Manufacturing PMI</td>\n",
       "      <td>High</td>\n",
       "      <td>54.90</td>\n",
       "      <td>NaN</td>\n",
       "      <td>55.60</td>\n",
       "      <td>EUR</td>\n",
       "    </tr>\n",
       "    <tr>\n",
       "      <th>3</th>\n",
       "      <td>2016, January 04, 08:50</td>\n",
       "      <td>(France) Markit Manufacturing PMI</td>\n",
       "      <td>High</td>\n",
       "      <td>51.60</td>\n",
       "      <td>NaN</td>\n",
       "      <td>51.40</td>\n",
       "      <td>EUR</td>\n",
       "    </tr>\n",
       "    <tr>\n",
       "      <th>4</th>\n",
       "      <td>2016, January 04, 08:55</td>\n",
       "      <td>(Germany) Markit Manufacturing PMI</td>\n",
       "      <td>High</td>\n",
       "      <td>53.00</td>\n",
       "      <td>53.0</td>\n",
       "      <td>53.20</td>\n",
       "      <td>EUR</td>\n",
       "    </tr>\n",
       "    <tr>\n",
       "      <th>...</th>\n",
       "      <td>...</td>\n",
       "      <td>...</td>\n",
       "      <td>...</td>\n",
       "      <td>...</td>\n",
       "      <td>...</td>\n",
       "      <td>...</td>\n",
       "      <td>...</td>\n",
       "    </tr>\n",
       "    <tr>\n",
       "      <th>12365</th>\n",
       "      <td>2019, December 30, 14:45</td>\n",
       "      <td>(United States) Chicago Purchasing Managers' I...</td>\n",
       "      <td>Medium</td>\n",
       "      <td>46.30</td>\n",
       "      <td>48.0</td>\n",
       "      <td>48.90</td>\n",
       "      <td>USD</td>\n",
       "    </tr>\n",
       "    <tr>\n",
       "      <th>12366</th>\n",
       "      <td>2019, December 30, 15:00</td>\n",
       "      <td>(United States) Pending Home Sales (MoM)</td>\n",
       "      <td>Medium</td>\n",
       "      <td>-1.3%</td>\n",
       "      <td>1.1%</td>\n",
       "      <td>1.2%</td>\n",
       "      <td>USD</td>\n",
       "    </tr>\n",
       "    <tr>\n",
       "      <th>12367</th>\n",
       "      <td>2019, December 31, 14:00</td>\n",
       "      <td>(United States) S&amp;P/Case-Shiller Home Price In...</td>\n",
       "      <td>Medium</td>\n",
       "      <td>2.1%</td>\n",
       "      <td>2.2%</td>\n",
       "      <td>2.2%</td>\n",
       "      <td>USD</td>\n",
       "    </tr>\n",
       "    <tr>\n",
       "      <th>12368</th>\n",
       "      <td>2019, December 31, 14:00</td>\n",
       "      <td>(United States) Housing Price Index (MoM)</td>\n",
       "      <td>Medium</td>\n",
       "      <td>0.6%</td>\n",
       "      <td>0.3%</td>\n",
       "      <td>0.2%</td>\n",
       "      <td>USD</td>\n",
       "    </tr>\n",
       "    <tr>\n",
       "      <th>12369</th>\n",
       "      <td>2019, December 31, 15:00</td>\n",
       "      <td>(United States) Consumer Confidence</td>\n",
       "      <td>High</td>\n",
       "      <td>NaN</td>\n",
       "      <td>NaN</td>\n",
       "      <td>NaN</td>\n",
       "      <td>USD</td>\n",
       "    </tr>\n",
       "  </tbody>\n",
       "</table>\n",
       "<p>12370 rows × 7 columns</p>\n",
       "</div>"
      ],
      "text/plain": [
       "                           Date  \\\n",
       "0       2016, January 04, 07:00   \n",
       "1       2016, January 04, 08:15   \n",
       "2       2016, January 04, 08:45   \n",
       "3       2016, January 04, 08:50   \n",
       "4       2016, January 04, 08:55   \n",
       "...                         ...   \n",
       "12365  2019, December 30, 14:45   \n",
       "12366  2019, December 30, 15:00   \n",
       "12367  2019, December 31, 14:00   \n",
       "12368  2019, December 31, 14:00   \n",
       "12369  2019, December 31, 15:00   \n",
       "\n",
       "                                                   Event  Impact Previous  \\\n",
       "0                                 (Austria) Unemployment    High  359.30K   \n",
       "1                       (Spain) Markit Manufacturing PMI    High    53.10   \n",
       "2                       (Italy) Markit Manufacturing PMI    High    54.90   \n",
       "3                      (France) Markit Manufacturing PMI    High    51.60   \n",
       "4                     (Germany) Markit Manufacturing PMI    High    53.00   \n",
       "...                                                  ...     ...      ...   \n",
       "12365  (United States) Chicago Purchasing Managers' I...  Medium    46.30   \n",
       "12366           (United States) Pending Home Sales (MoM)  Medium    -1.3%   \n",
       "12367  (United States) S&P/Case-Shiller Home Price In...  Medium     2.1%   \n",
       "12368          (United States) Housing Price Index (MoM)  Medium     0.6%   \n",
       "12369                (United States) Consumer Confidence    High      NaN   \n",
       "\n",
       "      Consensus   Actual Currency  \n",
       "0           NaN  417.50K      EUR  \n",
       "1           NaN    53.00      EUR  \n",
       "2           NaN    55.60      EUR  \n",
       "3           NaN    51.40      EUR  \n",
       "4          53.0    53.20      EUR  \n",
       "...         ...      ...      ...  \n",
       "12365      48.0    48.90      USD  \n",
       "12366      1.1%     1.2%      USD  \n",
       "12367      2.2%     2.2%      USD  \n",
       "12368      0.3%     0.2%      USD  \n",
       "12369       NaN      NaN      USD  \n",
       "\n",
       "[12370 rows x 7 columns]"
      ]
     },
     "execution_count": 90,
     "metadata": {},
     "output_type": "execute_result"
    }
   ],
   "source": [
    "df"
   ]
  },
  {
   "cell_type": "code",
   "execution_count": 91,
   "metadata": {},
   "outputs": [
    {
     "data": {
      "text/plain": [
       "499"
      ]
     },
     "execution_count": 91,
     "metadata": {},
     "output_type": "execute_result"
    }
   ],
   "source": [
    "# unique events\n",
    "len(df['Event'].unique())"
   ]
  },
  {
   "cell_type": "code",
   "execution_count": 92,
   "metadata": {},
   "outputs": [
    {
     "data": {
      "text/plain": [
       "217"
      ]
     },
     "execution_count": 92,
     "metadata": {},
     "output_type": "execute_result"
    }
   ],
   "source": [
    "# unique High impact events\n",
    "len(df.loc[df['Impact']=='High']['Event'].unique())"
   ]
  },
  {
   "cell_type": "code",
   "execution_count": 93,
   "metadata": {},
   "outputs": [],
   "source": [
    "# work with High impact events\n",
    "df = df.loc[df['Impact']=='High'].drop(columns=['Impact'])"
   ]
  },
  {
   "cell_type": "code",
   "execution_count": 94,
   "metadata": {},
   "outputs": [
    {
     "data": {
      "text/plain": [
       "(4026, 6)"
      ]
     },
     "execution_count": 94,
     "metadata": {},
     "output_type": "execute_result"
    }
   ],
   "source": [
    "df.shape"
   ]
  },
  {
   "cell_type": "code",
   "execution_count": 95,
   "metadata": {},
   "outputs": [],
   "source": [
    "# simplify event names\n",
    "# to lowercas\n",
    "df['Event'] = df['Event'].str.lower()\n",
    "# delete punctuation\n",
    "df['Event'] = df['Event'].apply(lambda x: x.translate(str.maketrans('','',string.punctuation)))\n",
    "# delete left/right spaces\n",
    "df['Event'] = df['Event'].str.strip()"
   ]
  },
  {
   "cell_type": "code",
   "execution_count": 96,
   "metadata": {},
   "outputs": [
    {
     "data": {
      "text/plain": [
       "33"
      ]
     },
     "execution_count": 96,
     "metadata": {},
     "output_type": "execute_result"
    }
   ],
   "source": [
    "# check how many different speeches we have\n",
    "len(df[df['Event'].str.contains(\"speech\", case=False)]['Event'].unique())"
   ]
  },
  {
   "cell_type": "code",
   "execution_count": 97,
   "metadata": {},
   "outputs": [],
   "source": [
    "# aggregate speeches based on the currency\n",
    "df.loc[(df['Event'].str.contains(\"speech\", case=False)) & (df['Currency']=='JPY'), 'Event'] = 'jpy speech'\n",
    "df.loc[(df['Event'].str.contains(\"speech\", case=False)) & (df['Currency']=='EUR'), 'Event'] = 'eur speech'\n",
    "df.loc[(df['Event'].str.contains(\"speech\", case=False)) & (df['Currency']=='GBP'), 'Event'] = 'gbp speech'\n",
    "df.loc[(df['Event'].str.contains(\"speech\", case=False)) & (df['Currency']=='USD'), 'Event'] = 'usd speech'"
   ]
  },
  {
   "cell_type": "code",
   "execution_count": 98,
   "metadata": {},
   "outputs": [
    {
     "data": {
      "text/plain": [
       "175"
      ]
     },
     "execution_count": 98,
     "metadata": {},
     "output_type": "execute_result"
    }
   ],
   "source": [
    "len(df['Event'].unique())"
   ]
  },
  {
   "cell_type": "code",
   "execution_count": 99,
   "metadata": {},
   "outputs": [],
   "source": [
    "# group rare events\n",
    "df.loc[(df.groupby('Event').filter(lambda x: len(x) <= 5).index), 'Event'] = 'an_event'\n",
    "\n",
    "df.loc[(df['Event']=='an_event') & (df['Currency']=='JPY'), 'Event'] = 'jpy event'\n",
    "df.loc[(df['Event']=='an_event') & (df['Currency']=='EUR'), 'Event'] = 'eur event'\n",
    "df.loc[(df['Event']=='an_event') & (df['Currency']=='GBP'), 'Event'] = 'gbp event'\n",
    "df.loc[(df['Event']=='an_event') & (df['Currency']=='USD'), 'Event'] = 'usd event'"
   ]
  },
  {
   "cell_type": "code",
   "execution_count": 100,
   "metadata": {},
   "outputs": [
    {
     "data": {
      "text/plain": [
       "101"
      ]
     },
     "execution_count": 100,
     "metadata": {},
     "output_type": "execute_result"
    }
   ],
   "source": [
    "len(df['Event'].unique())"
   ]
  },
  {
   "cell_type": "code",
   "execution_count": 101,
   "metadata": {},
   "outputs": [],
   "source": [
    "# events without numeric data are aggregated to \"currency event\" groups, but speeches remain speeches\n",
    "df.loc[df['Previous'].isnull() & df['Consensus'].isnull() & df['Actual'].isnull() & (~df['Event'].str.contains('speech')) & (df['Currency']=='JPY'), 'Event'] = 'jpy event'\n",
    "df.loc[df['Previous'].isnull() & df['Consensus'].isnull() & df['Actual'].isnull() & (~df['Event'].str.contains('speech')) & (df['Currency']=='EUR'), 'Event'] = 'eur event'\n",
    "df.loc[df['Previous'].isnull() & df['Consensus'].isnull() & df['Actual'].isnull() & (~df['Event'].str.contains('speech')) & (df['Currency']=='GBP'), 'Event'] = 'gbp event'\n",
    "df.loc[df['Previous'].isnull() & df['Consensus'].isnull() & df['Actual'].isnull() & (~df['Event'].str.contains('speech')) & (df['Currency']=='USD'), 'Event'] = 'usd event'"
   ]
  },
  {
   "cell_type": "code",
   "execution_count": 102,
   "metadata": {},
   "outputs": [
    {
     "data": {
      "text/plain": [
       "usd speech    418\n",
       "usd event     192\n",
       "gbp speech    140\n",
       "eur event     125\n",
       "gbp event     117\n",
       "eur speech    108\n",
       "jpy event      93\n",
       "jpy speech     48\n",
       "Name: Event, dtype: int64"
      ]
     },
     "execution_count": 102,
     "metadata": {},
     "output_type": "execute_result"
    }
   ],
   "source": [
    "# we have 8 event types without numeric data - events and speeches\n",
    "df.loc[df['Previous'].isnull() & df['Consensus'].isnull() & df['Actual'].isnull()]['Event'].value_counts()"
   ]
  },
  {
   "cell_type": "code",
   "execution_count": 103,
   "metadata": {},
   "outputs": [
    {
     "data": {
      "text/plain": [
       "82"
      ]
     },
     "execution_count": 103,
     "metadata": {},
     "output_type": "execute_result"
    }
   ],
   "source": [
    "# and finaly we have 82 distinct event types\n",
    "len(df['Event'].unique())"
   ]
  },
  {
   "cell_type": "code",
   "execution_count": 104,
   "metadata": {},
   "outputs": [],
   "source": [
    "# our numeric values are in string format, we convert them to float\n",
    "df['Previous'] = df['Previous'].str.extract('(\\d+\\.\\d+)', expand=False).astype(float)\n",
    "df['Consensus'] = df['Consensus'].str.extract('(\\d+\\.\\d+)', expand=False).astype(float)\n",
    "df['Actual'] = df['Actual'].str.extract('(\\d+\\.\\d+)', expand=False).astype(float)"
   ]
  },
  {
   "cell_type": "code",
   "execution_count": 105,
   "metadata": {},
   "outputs": [
    {
     "data": {
      "text/html": [
       "<div>\n",
       "<style scoped>\n",
       "    .dataframe tbody tr th:only-of-type {\n",
       "        vertical-align: middle;\n",
       "    }\n",
       "\n",
       "    .dataframe tbody tr th {\n",
       "        vertical-align: top;\n",
       "    }\n",
       "\n",
       "    .dataframe thead th {\n",
       "        text-align: right;\n",
       "    }\n",
       "</style>\n",
       "<table border=\"1\" class=\"dataframe\">\n",
       "  <thead>\n",
       "    <tr style=\"text-align: right;\">\n",
       "      <th></th>\n",
       "      <th>Date</th>\n",
       "      <th>Event</th>\n",
       "      <th>Previous</th>\n",
       "      <th>Consensus</th>\n",
       "      <th>Actual</th>\n",
       "      <th>Currency</th>\n",
       "    </tr>\n",
       "  </thead>\n",
       "  <tbody>\n",
       "    <tr>\n",
       "      <th>0</th>\n",
       "      <td>2016, January 04, 07:00</td>\n",
       "      <td>austria unemployment</td>\n",
       "      <td>359.30</td>\n",
       "      <td>NaN</td>\n",
       "      <td>417.50</td>\n",
       "      <td>EUR</td>\n",
       "    </tr>\n",
       "    <tr>\n",
       "      <th>1</th>\n",
       "      <td>2016, January 04, 08:15</td>\n",
       "      <td>spain markit manufacturing pmi</td>\n",
       "      <td>53.10</td>\n",
       "      <td>NaN</td>\n",
       "      <td>53.00</td>\n",
       "      <td>EUR</td>\n",
       "    </tr>\n",
       "    <tr>\n",
       "      <th>2</th>\n",
       "      <td>2016, January 04, 08:45</td>\n",
       "      <td>italy markit manufacturing pmi</td>\n",
       "      <td>54.90</td>\n",
       "      <td>NaN</td>\n",
       "      <td>55.60</td>\n",
       "      <td>EUR</td>\n",
       "    </tr>\n",
       "    <tr>\n",
       "      <th>3</th>\n",
       "      <td>2016, January 04, 08:50</td>\n",
       "      <td>france markit manufacturing pmi</td>\n",
       "      <td>51.60</td>\n",
       "      <td>NaN</td>\n",
       "      <td>51.40</td>\n",
       "      <td>EUR</td>\n",
       "    </tr>\n",
       "    <tr>\n",
       "      <th>4</th>\n",
       "      <td>2016, January 04, 08:55</td>\n",
       "      <td>germany markit manufacturing pmi</td>\n",
       "      <td>53.00</td>\n",
       "      <td>53.00</td>\n",
       "      <td>53.20</td>\n",
       "      <td>EUR</td>\n",
       "    </tr>\n",
       "    <tr>\n",
       "      <th>...</th>\n",
       "      <td>...</td>\n",
       "      <td>...</td>\n",
       "      <td>...</td>\n",
       "      <td>...</td>\n",
       "      <td>...</td>\n",
       "      <td>...</td>\n",
       "    </tr>\n",
       "    <tr>\n",
       "      <th>12351</th>\n",
       "      <td>2019, December 26, 13:30</td>\n",
       "      <td>united states initial jobless claims</td>\n",
       "      <td>235.00</td>\n",
       "      <td>224.00</td>\n",
       "      <td>222.00</td>\n",
       "      <td>USD</td>\n",
       "    </tr>\n",
       "    <tr>\n",
       "      <th>12352</th>\n",
       "      <td>2019, December 26, 13:30</td>\n",
       "      <td>united states initial jobless claims 4week ave...</td>\n",
       "      <td>225.75</td>\n",
       "      <td>NaN</td>\n",
       "      <td>228.00</td>\n",
       "      <td>USD</td>\n",
       "    </tr>\n",
       "    <tr>\n",
       "      <th>12357</th>\n",
       "      <td>2019, December 26, 23:30</td>\n",
       "      <td>japan tokyo cpi ex fresh food yoy</td>\n",
       "      <td>0.60</td>\n",
       "      <td>0.60</td>\n",
       "      <td>0.80</td>\n",
       "      <td>JPY</td>\n",
       "    </tr>\n",
       "    <tr>\n",
       "      <th>12364</th>\n",
       "      <td>2019, December 30, 13:30</td>\n",
       "      <td>united states goods trade balance</td>\n",
       "      <td>66.80</td>\n",
       "      <td>68.75</td>\n",
       "      <td>63.19</td>\n",
       "      <td>USD</td>\n",
       "    </tr>\n",
       "    <tr>\n",
       "      <th>12369</th>\n",
       "      <td>2019, December 31, 15:00</td>\n",
       "      <td>usd event</td>\n",
       "      <td>NaN</td>\n",
       "      <td>NaN</td>\n",
       "      <td>NaN</td>\n",
       "      <td>USD</td>\n",
       "    </tr>\n",
       "  </tbody>\n",
       "</table>\n",
       "<p>4026 rows × 6 columns</p>\n",
       "</div>"
      ],
      "text/plain": [
       "                           Date  \\\n",
       "0       2016, January 04, 07:00   \n",
       "1       2016, January 04, 08:15   \n",
       "2       2016, January 04, 08:45   \n",
       "3       2016, January 04, 08:50   \n",
       "4       2016, January 04, 08:55   \n",
       "...                         ...   \n",
       "12351  2019, December 26, 13:30   \n",
       "12352  2019, December 26, 13:30   \n",
       "12357  2019, December 26, 23:30   \n",
       "12364  2019, December 30, 13:30   \n",
       "12369  2019, December 31, 15:00   \n",
       "\n",
       "                                                   Event  Previous  Consensus  \\\n",
       "0                                   austria unemployment    359.30        NaN   \n",
       "1                         spain markit manufacturing pmi     53.10        NaN   \n",
       "2                         italy markit manufacturing pmi     54.90        NaN   \n",
       "3                        france markit manufacturing pmi     51.60        NaN   \n",
       "4                       germany markit manufacturing pmi     53.00      53.00   \n",
       "...                                                  ...       ...        ...   \n",
       "12351               united states initial jobless claims    235.00     224.00   \n",
       "12352  united states initial jobless claims 4week ave...    225.75        NaN   \n",
       "12357                  japan tokyo cpi ex fresh food yoy      0.60       0.60   \n",
       "12364                  united states goods trade balance     66.80      68.75   \n",
       "12369                                          usd event       NaN        NaN   \n",
       "\n",
       "       Actual Currency  \n",
       "0      417.50      EUR  \n",
       "1       53.00      EUR  \n",
       "2       55.60      EUR  \n",
       "3       51.40      EUR  \n",
       "4       53.20      EUR  \n",
       "...       ...      ...  \n",
       "12351  222.00      USD  \n",
       "12352  228.00      USD  \n",
       "12357    0.80      JPY  \n",
       "12364   63.19      USD  \n",
       "12369     NaN      USD  \n",
       "\n",
       "[4026 rows x 6 columns]"
      ]
     },
     "execution_count": 105,
     "metadata": {},
     "output_type": "execute_result"
    }
   ],
   "source": [
    "df"
   ]
  },
  {
   "cell_type": "code",
   "execution_count": 106,
   "metadata": {},
   "outputs": [],
   "source": [
    "# the list of unique event names\n",
    "event_type_list = list(df['Event'].unique())"
   ]
  },
  {
   "cell_type": "code",
   "execution_count": 107,
   "metadata": {},
   "outputs": [
    {
     "name": "stdout",
     "output_type": "stream",
     "text": [
      "austria unemployment\n",
      "spain markit manufacturing pmi\n",
      "italy markit manufacturing pmi\n",
      "france markit manufacturing pmi\n",
      "germany markit manufacturing pmi\n",
      "greece markit manufacturing pmi\n",
      "united states ism prices paid\n",
      "united states ism manufacturing pmi\n",
      "spain unemployment change\n",
      "germany unemployment change\n",
      "european monetary union consumer price index  core yoy\n",
      "european monetary union consumer price index yoy\n",
      "united states adp employment change\n",
      "united states trade balance\n",
      "united states ism nonmanufacturing pmi\n",
      "usd event\n",
      "italy unemployment\n",
      "united states initial jobless claims\n",
      "united states unemployment rate\n",
      "united states nonfarm payrolls\n",
      "japan current account nsa\n",
      "jpy speech\n",
      "gbp speech\n",
      "united states jolts job openings\n",
      "eur event\n",
      "united kingdom boe mpc vote hike\n",
      "united kingdom boe mpc vote unchanged\n",
      "united kingdom boe mpc vote cut\n",
      "united kingdom boe asset purchase facility\n",
      "united kingdom boe interest rate decision\n",
      "gbp event\n",
      "united states retail sales ex autos mom\n",
      "united states retail sales mom\n",
      "united states reutersmichigan consumer sentiment index\n",
      "united states building permits mom\n",
      "united states consumer price index yoy\n",
      "united states consumer price index ex food  energy yoy\n",
      "european monetary union ecb interest rate decision\n",
      "eur speech\n",
      "united states existing home sales mom\n",
      "united states consumer confidence\n",
      "united states new home sales mom\n",
      "united states fed interest rate decision\n",
      "united states durable goods orders ex transportation\n",
      "united states durable goods orders\n",
      "japan boj interest rate decision\n",
      "jpy event\n",
      "united states gross domestic product annualized\n",
      "united states gross domestic product price index\n",
      "united states goods trade balance\n",
      "usd speech\n",
      "united kingdom niesr gdp estimate 3m\n",
      "european monetary union gross domestic product sa qoq\n",
      "european monetary union gross domestic product sa yoy\n",
      "united kingdom core consumer price index yoy\n",
      "united kingdom consumer price index yoy\n",
      "united states core personal consumption expenditure  price index yoy\n",
      "germany unemployment rate sa\n",
      "european monetary union ecb deposit rate decision\n",
      "united kingdom consumer inflation expectations\n",
      "united states building permits change\n",
      "united states retail sales control group\n",
      "united states michigan consumer sentiment index\n",
      "united kingdom gross domestic product qoq\n",
      "united states core personal consumption expenditures qoq\n",
      "united states core personal consumption expenditure  price index mom\n",
      "united kingdom average earnings including bonus 3moyr\n",
      "germany harmonised index of consumer prices yoy\n",
      "united kingdom average earnings excluding bonus 3moyr\n",
      "united states average hourly earnings yoy\n",
      "united kingdom ilo unemployment rate 3m\n",
      "japan tokyo cpi ex fresh food yoy\n",
      "germany gross domestic product qoq\n",
      "germany harmonized index of consumer prices yoy\n",
      "united kingdom gross domestic product mom\n",
      "united states durable goods orders ex defense\n",
      "united states consumer price index ex food  energy mom\n",
      "germany zew survey  economic sentiment\n",
      "european monetary union markit pmi composite\n",
      "united states nondefense capital goods orders ex aircraft\n",
      "japan gross domestic product qoq\n",
      "united states initial jobless claims 4week average\n"
     ]
    }
   ],
   "source": [
    "for event_type in event_type_list:\n",
    "    print(event_type)"
   ]
  },
  {
   "cell_type": "code",
   "execution_count": 108,
   "metadata": {},
   "outputs": [],
   "source": [
    "# convert speech and rare event numbers to 0.0\n",
    "no_number_events = ['usd speech', 'gbp speech', 'eur speech', 'jpy speech', 'usd event', 'gbp event', 'eur event', 'jpy event',]\n",
    "\n",
    "for event_type in no_number_events:\n",
    "    df.loc[df['Event']==event_type,['Previous','Consensus','Actual']] = 0.0"
   ]
  },
  {
   "cell_type": "code",
   "execution_count": 109,
   "metadata": {},
   "outputs": [
    {
     "name": "stdout",
     "output_type": "stream",
     "text": [
      "False\n"
     ]
    }
   ],
   "source": [
    "# check if have event with only NaN data, that is a non-numeric event, NaN should be 0.0\n",
    "for event_type in event_type_list:\n",
    "    non_numerics = []\n",
    "    non_numerics.append(df[['Previous','Consensus','Actual']].loc[df['Event']==event_type].isnull().all().all())\n",
    "# have we any event_type with only NaN data?    \n",
    "print(any(non_numerics))"
   ]
  },
  {
   "cell_type": "code",
   "execution_count": 110,
   "metadata": {},
   "outputs": [
    {
     "name": "stdout",
     "output_type": "stream",
     "text": [
      "False\n"
     ]
    }
   ],
   "source": [
    "# check if have row with only NaN data, that row should be estimated from earlier event\n",
    "for event_type in event_type_list:\n",
    "    empty_rows = []\n",
    "    empty_rows.append(df[['Previous','Consensus','Actual']].loc[df['Event']==event_type].isnull().all(axis='columns').any())\n",
    "# have we any row (event) with only NaN data?    \n",
    "print(any(empty_rows))"
   ]
  },
  {
   "cell_type": "code",
   "execution_count": 111,
   "metadata": {},
   "outputs": [],
   "source": [
    "# fill Actual and Consensus nans with Previous\n",
    "# this can lead to too high surprise :(\n",
    "df['Actual'].fillna(df['Previous'], inplace=True)\n",
    "df['Consensus'].fillna(df['Previous'], inplace=True)"
   ]
  },
  {
   "cell_type": "code",
   "execution_count": 112,
   "metadata": {},
   "outputs": [
    {
     "data": {
      "text/html": [
       "<div>\n",
       "<style scoped>\n",
       "    .dataframe tbody tr th:only-of-type {\n",
       "        vertical-align: middle;\n",
       "    }\n",
       "\n",
       "    .dataframe tbody tr th {\n",
       "        vertical-align: top;\n",
       "    }\n",
       "\n",
       "    .dataframe thead th {\n",
       "        text-align: right;\n",
       "    }\n",
       "</style>\n",
       "<table border=\"1\" class=\"dataframe\">\n",
       "  <thead>\n",
       "    <tr style=\"text-align: right;\">\n",
       "      <th></th>\n",
       "      <th>Date</th>\n",
       "      <th>Event</th>\n",
       "      <th>Previous</th>\n",
       "      <th>Consensus</th>\n",
       "      <th>Actual</th>\n",
       "      <th>Currency</th>\n",
       "    </tr>\n",
       "  </thead>\n",
       "  <tbody>\n",
       "    <tr>\n",
       "      <th>7843</th>\n",
       "      <td>2018, July 10, 08:30</td>\n",
       "      <td>united kingdom gross domestic product mom</td>\n",
       "      <td>NaN</td>\n",
       "      <td>0.3</td>\n",
       "      <td>0.3</td>\n",
       "      <td>GBP</td>\n",
       "    </tr>\n",
       "    <tr>\n",
       "      <th>8929</th>\n",
       "      <td>2018, November 21, 13:30</td>\n",
       "      <td>united states durable goods orders ex defense</td>\n",
       "      <td>NaN</td>\n",
       "      <td>NaN</td>\n",
       "      <td>1.2</td>\n",
       "      <td>USD</td>\n",
       "    </tr>\n",
       "    <tr>\n",
       "      <th>9680</th>\n",
       "      <td>2019, February 20, 11:00</td>\n",
       "      <td>united states retail sales control group</td>\n",
       "      <td>NaN</td>\n",
       "      <td>0.4</td>\n",
       "      <td>NaN</td>\n",
       "      <td>USD</td>\n",
       "    </tr>\n",
       "    <tr>\n",
       "      <th>9681</th>\n",
       "      <td>2019, February 20, 11:00</td>\n",
       "      <td>united states retail sales mom</td>\n",
       "      <td>NaN</td>\n",
       "      <td>0.1</td>\n",
       "      <td>NaN</td>\n",
       "      <td>USD</td>\n",
       "    </tr>\n",
       "    <tr>\n",
       "      <th>9682</th>\n",
       "      <td>2019, February 20, 11:00</td>\n",
       "      <td>united states retail sales ex autos mom</td>\n",
       "      <td>NaN</td>\n",
       "      <td>0.1</td>\n",
       "      <td>NaN</td>\n",
       "      <td>USD</td>\n",
       "    </tr>\n",
       "    <tr>\n",
       "      <th>12222</th>\n",
       "      <td>2019, December 12, 13:30</td>\n",
       "      <td>united states initial jobless claims</td>\n",
       "      <td>NaN</td>\n",
       "      <td>211.0</td>\n",
       "      <td>NaN</td>\n",
       "      <td>USD</td>\n",
       "    </tr>\n",
       "  </tbody>\n",
       "</table>\n",
       "</div>"
      ],
      "text/plain": [
       "                           Date  \\\n",
       "7843       2018, July 10, 08:30   \n",
       "8929   2018, November 21, 13:30   \n",
       "9680   2019, February 20, 11:00   \n",
       "9681   2019, February 20, 11:00   \n",
       "9682   2019, February 20, 11:00   \n",
       "12222  2019, December 12, 13:30   \n",
       "\n",
       "                                               Event  Previous  Consensus  \\\n",
       "7843       united kingdom gross domestic product mom       NaN        0.3   \n",
       "8929   united states durable goods orders ex defense       NaN        NaN   \n",
       "9680        united states retail sales control group       NaN        0.4   \n",
       "9681                  united states retail sales mom       NaN        0.1   \n",
       "9682         united states retail sales ex autos mom       NaN        0.1   \n",
       "12222           united states initial jobless claims       NaN      211.0   \n",
       "\n",
       "       Actual Currency  \n",
       "7843      0.3      GBP  \n",
       "8929      1.2      USD  \n",
       "9680      NaN      USD  \n",
       "9681      NaN      USD  \n",
       "9682      NaN      USD  \n",
       "12222     NaN      USD  "
      ]
     },
     "execution_count": 112,
     "metadata": {},
     "output_type": "execute_result"
    }
   ],
   "source": [
    "# we don't have too many rows with nans after the transformations\n",
    "df[pd.isnull(df).any(axis=1)]"
   ]
  },
  {
   "cell_type": "code",
   "execution_count": 113,
   "metadata": {},
   "outputs": [],
   "source": [
    "# convert the above rows to events\n",
    "df.loc[(pd.isnull(df).any(axis=1)) & (df['Currency']=='USD'), 'Event'] = 'usd event'\n",
    "df.loc[(pd.isnull(df).any(axis=1)) & (df['Currency']=='GBP'), 'Event'] = 'gbp event'\n",
    "\n",
    "# convert speech and rare event numbers to 0.0\n",
    "no_number_events = ['usd speech', 'gbp speech', 'eur speech', 'jpy speech', 'usd event', 'gbp event', 'eur event', 'jpy event',]\n",
    "\n",
    "for event_type in no_number_events:\n",
    "    df.loc[df['Event']==event_type,['Previous','Consensus','Actual']] = 0.0"
   ]
  },
  {
   "cell_type": "code",
   "execution_count": 114,
   "metadata": {},
   "outputs": [],
   "source": [
    "# create new features\n",
    "# only + numbers and +- numbers would need different scaling\n",
    "df['change'] = df['Actual'] - df['Previous']\n",
    "# df['change_pc'] = df['Actual'] / df['Previous']\n",
    "df['surp'] = df['Actual'] - df['Consensus']\n",
    "# df['surp_pc'] = df['Actual'] / df['Consensus']"
   ]
  },
  {
   "cell_type": "code",
   "execution_count": 115,
   "metadata": {},
   "outputs": [
    {
     "data": {
      "text/html": [
       "<div>\n",
       "<style scoped>\n",
       "    .dataframe tbody tr th:only-of-type {\n",
       "        vertical-align: middle;\n",
       "    }\n",
       "\n",
       "    .dataframe tbody tr th {\n",
       "        vertical-align: top;\n",
       "    }\n",
       "\n",
       "    .dataframe thead th {\n",
       "        text-align: right;\n",
       "    }\n",
       "</style>\n",
       "<table border=\"1\" class=\"dataframe\">\n",
       "  <thead>\n",
       "    <tr style=\"text-align: right;\">\n",
       "      <th></th>\n",
       "      <th>Date</th>\n",
       "      <th>Event</th>\n",
       "      <th>Previous</th>\n",
       "      <th>Consensus</th>\n",
       "      <th>Actual</th>\n",
       "      <th>Currency</th>\n",
       "      <th>change</th>\n",
       "      <th>surp</th>\n",
       "    </tr>\n",
       "  </thead>\n",
       "  <tbody>\n",
       "  </tbody>\n",
       "</table>\n",
       "</div>"
      ],
      "text/plain": [
       "Empty DataFrame\n",
       "Columns: [Date, Event, Previous, Consensus, Actual, Currency, change, surp]\n",
       "Index: []"
      ]
     },
     "execution_count": 115,
     "metadata": {},
     "output_type": "execute_result"
    }
   ],
   "source": [
    "# no more nan rows :)\n",
    "df[pd.isnull(df).any(axis=1)]"
   ]
  },
  {
   "cell_type": "code",
   "execution_count": 116,
   "metadata": {},
   "outputs": [],
   "source": [
    "# set proper datetime format\n",
    "df['Date'] = pd.to_datetime(df['Date'], infer_datetime_format=True)"
   ]
  },
  {
   "cell_type": "code",
   "execution_count": 117,
   "metadata": {},
   "outputs": [
    {
     "data": {
      "text/html": [
       "<div>\n",
       "<style scoped>\n",
       "    .dataframe tbody tr th:only-of-type {\n",
       "        vertical-align: middle;\n",
       "    }\n",
       "\n",
       "    .dataframe tbody tr th {\n",
       "        vertical-align: top;\n",
       "    }\n",
       "\n",
       "    .dataframe thead th {\n",
       "        text-align: right;\n",
       "    }\n",
       "</style>\n",
       "<table border=\"1\" class=\"dataframe\">\n",
       "  <thead>\n",
       "    <tr style=\"text-align: right;\">\n",
       "      <th></th>\n",
       "      <th>Date</th>\n",
       "      <th>Event</th>\n",
       "      <th>Previous</th>\n",
       "      <th>Consensus</th>\n",
       "      <th>Actual</th>\n",
       "      <th>Currency</th>\n",
       "      <th>change</th>\n",
       "      <th>surp</th>\n",
       "    </tr>\n",
       "  </thead>\n",
       "  <tbody>\n",
       "    <tr>\n",
       "      <th>0</th>\n",
       "      <td>2016-01-04 07:00:00</td>\n",
       "      <td>austria unemployment</td>\n",
       "      <td>359.30</td>\n",
       "      <td>359.30</td>\n",
       "      <td>417.50</td>\n",
       "      <td>EUR</td>\n",
       "      <td>58.20</td>\n",
       "      <td>58.20</td>\n",
       "    </tr>\n",
       "    <tr>\n",
       "      <th>1</th>\n",
       "      <td>2016-01-04 08:15:00</td>\n",
       "      <td>spain markit manufacturing pmi</td>\n",
       "      <td>53.10</td>\n",
       "      <td>53.10</td>\n",
       "      <td>53.00</td>\n",
       "      <td>EUR</td>\n",
       "      <td>-0.10</td>\n",
       "      <td>-0.10</td>\n",
       "    </tr>\n",
       "    <tr>\n",
       "      <th>2</th>\n",
       "      <td>2016-01-04 08:45:00</td>\n",
       "      <td>italy markit manufacturing pmi</td>\n",
       "      <td>54.90</td>\n",
       "      <td>54.90</td>\n",
       "      <td>55.60</td>\n",
       "      <td>EUR</td>\n",
       "      <td>0.70</td>\n",
       "      <td>0.70</td>\n",
       "    </tr>\n",
       "    <tr>\n",
       "      <th>3</th>\n",
       "      <td>2016-01-04 08:50:00</td>\n",
       "      <td>france markit manufacturing pmi</td>\n",
       "      <td>51.60</td>\n",
       "      <td>51.60</td>\n",
       "      <td>51.40</td>\n",
       "      <td>EUR</td>\n",
       "      <td>-0.20</td>\n",
       "      <td>-0.20</td>\n",
       "    </tr>\n",
       "    <tr>\n",
       "      <th>4</th>\n",
       "      <td>2016-01-04 08:55:00</td>\n",
       "      <td>germany markit manufacturing pmi</td>\n",
       "      <td>53.00</td>\n",
       "      <td>53.00</td>\n",
       "      <td>53.20</td>\n",
       "      <td>EUR</td>\n",
       "      <td>0.20</td>\n",
       "      <td>0.20</td>\n",
       "    </tr>\n",
       "    <tr>\n",
       "      <th>...</th>\n",
       "      <td>...</td>\n",
       "      <td>...</td>\n",
       "      <td>...</td>\n",
       "      <td>...</td>\n",
       "      <td>...</td>\n",
       "      <td>...</td>\n",
       "      <td>...</td>\n",
       "      <td>...</td>\n",
       "    </tr>\n",
       "    <tr>\n",
       "      <th>12351</th>\n",
       "      <td>2019-12-26 13:30:00</td>\n",
       "      <td>united states initial jobless claims</td>\n",
       "      <td>235.00</td>\n",
       "      <td>224.00</td>\n",
       "      <td>222.00</td>\n",
       "      <td>USD</td>\n",
       "      <td>-13.00</td>\n",
       "      <td>-2.00</td>\n",
       "    </tr>\n",
       "    <tr>\n",
       "      <th>12352</th>\n",
       "      <td>2019-12-26 13:30:00</td>\n",
       "      <td>united states initial jobless claims 4week ave...</td>\n",
       "      <td>225.75</td>\n",
       "      <td>225.75</td>\n",
       "      <td>228.00</td>\n",
       "      <td>USD</td>\n",
       "      <td>2.25</td>\n",
       "      <td>2.25</td>\n",
       "    </tr>\n",
       "    <tr>\n",
       "      <th>12357</th>\n",
       "      <td>2019-12-26 23:30:00</td>\n",
       "      <td>japan tokyo cpi ex fresh food yoy</td>\n",
       "      <td>0.60</td>\n",
       "      <td>0.60</td>\n",
       "      <td>0.80</td>\n",
       "      <td>JPY</td>\n",
       "      <td>0.20</td>\n",
       "      <td>0.20</td>\n",
       "    </tr>\n",
       "    <tr>\n",
       "      <th>12364</th>\n",
       "      <td>2019-12-30 13:30:00</td>\n",
       "      <td>united states goods trade balance</td>\n",
       "      <td>66.80</td>\n",
       "      <td>68.75</td>\n",
       "      <td>63.19</td>\n",
       "      <td>USD</td>\n",
       "      <td>-3.61</td>\n",
       "      <td>-5.56</td>\n",
       "    </tr>\n",
       "    <tr>\n",
       "      <th>12369</th>\n",
       "      <td>2019-12-31 15:00:00</td>\n",
       "      <td>usd event</td>\n",
       "      <td>0.00</td>\n",
       "      <td>0.00</td>\n",
       "      <td>0.00</td>\n",
       "      <td>USD</td>\n",
       "      <td>0.00</td>\n",
       "      <td>0.00</td>\n",
       "    </tr>\n",
       "  </tbody>\n",
       "</table>\n",
       "<p>4026 rows × 8 columns</p>\n",
       "</div>"
      ],
      "text/plain": [
       "                     Date                                              Event  \\\n",
       "0     2016-01-04 07:00:00                               austria unemployment   \n",
       "1     2016-01-04 08:15:00                     spain markit manufacturing pmi   \n",
       "2     2016-01-04 08:45:00                     italy markit manufacturing pmi   \n",
       "3     2016-01-04 08:50:00                    france markit manufacturing pmi   \n",
       "4     2016-01-04 08:55:00                   germany markit manufacturing pmi   \n",
       "...                   ...                                                ...   \n",
       "12351 2019-12-26 13:30:00               united states initial jobless claims   \n",
       "12352 2019-12-26 13:30:00  united states initial jobless claims 4week ave...   \n",
       "12357 2019-12-26 23:30:00                  japan tokyo cpi ex fresh food yoy   \n",
       "12364 2019-12-30 13:30:00                  united states goods trade balance   \n",
       "12369 2019-12-31 15:00:00                                          usd event   \n",
       "\n",
       "       Previous  Consensus  Actual Currency  change   surp  \n",
       "0        359.30     359.30  417.50      EUR   58.20  58.20  \n",
       "1         53.10      53.10   53.00      EUR   -0.10  -0.10  \n",
       "2         54.90      54.90   55.60      EUR    0.70   0.70  \n",
       "3         51.60      51.60   51.40      EUR   -0.20  -0.20  \n",
       "4         53.00      53.00   53.20      EUR    0.20   0.20  \n",
       "...         ...        ...     ...      ...     ...    ...  \n",
       "12351    235.00     224.00  222.00      USD  -13.00  -2.00  \n",
       "12352    225.75     225.75  228.00      USD    2.25   2.25  \n",
       "12357      0.60       0.60    0.80      JPY    0.20   0.20  \n",
       "12364     66.80      68.75   63.19      USD   -3.61  -5.56  \n",
       "12369      0.00       0.00    0.00      USD    0.00   0.00  \n",
       "\n",
       "[4026 rows x 8 columns]"
      ]
     },
     "execution_count": 117,
     "metadata": {},
     "output_type": "execute_result"
    }
   ],
   "source": [
    "df"
   ]
  },
  {
   "cell_type": "code",
   "execution_count": 118,
   "metadata": {},
   "outputs": [],
   "source": [
    "# delete austria, greece, italy, spain events\n",
    "df = df.loc[  (~df['Event'].str.contains('italy')) & \n",
    "                        (~df['Event'].str.contains('spain')) & \n",
    "                        (~df['Event'].str.contains('austria')) & \n",
    "                        (~df['Event'].str.contains('greece'))]"
   ]
  },
  {
   "cell_type": "code",
   "execution_count": 66,
   "metadata": {},
   "outputs": [],
   "source": [
    "df.to_csv(f'news_data/news_data_tight.csv', index=False)"
   ]
  },
  {
   "cell_type": "code",
   "execution_count": null,
   "metadata": {},
   "outputs": [],
   "source": []
  },
  {
   "cell_type": "code",
   "execution_count": 67,
   "metadata": {},
   "outputs": [
    {
     "data": {
      "text/plain": [
       "37"
      ]
     },
     "execution_count": 67,
     "metadata": {},
     "output_type": "execute_result"
    }
   ],
   "source": [
    "len(df.loc[df['Currency']=='USD']['Event'].unique())"
   ]
  },
  {
   "cell_type": "code",
   "execution_count": 68,
   "metadata": {},
   "outputs": [
    {
     "data": {
      "text/plain": [
       "6"
      ]
     },
     "execution_count": 68,
     "metadata": {},
     "output_type": "execute_result"
    }
   ],
   "source": [
    "len(df.loc[df['Currency']=='JPY']['Event'].unique())"
   ]
  },
  {
   "cell_type": "code",
   "execution_count": 69,
   "metadata": {},
   "outputs": [
    {
     "data": {
      "text/plain": [
       "17"
      ]
     },
     "execution_count": 69,
     "metadata": {},
     "output_type": "execute_result"
    }
   ],
   "source": [
    "len(df.loc[df['Currency']=='EUR']['Event'].unique())"
   ]
  },
  {
   "cell_type": "code",
   "execution_count": 70,
   "metadata": {},
   "outputs": [
    {
     "data": {
      "text/plain": [
       "16"
      ]
     },
     "execution_count": 70,
     "metadata": {},
     "output_type": "execute_result"
    }
   ],
   "source": [
    "len(df.loc[df['Currency']=='GBP']['Event'].unique())"
   ]
  },
  {
   "cell_type": "code",
   "execution_count": null,
   "metadata": {},
   "outputs": [],
   "source": []
  }
 ],
 "metadata": {
  "environment": {
   "name": "tf2-gpu.2-1.m46",
   "type": "gcloud",
   "uri": "gcr.io/deeplearning-platform-release/tf2-gpu.2-1:m46"
  },
  "file_extension": ".py",
  "kernelspec": {
   "display_name": "Python 3",
   "language": "python",
   "name": "python3"
  },
  "language_info": {
   "codemirror_mode": {
    "name": "ipython",
    "version": 3
   },
   "file_extension": ".py",
   "mimetype": "text/x-python",
   "name": "python",
   "nbconvert_exporter": "python",
   "pygments_lexer": "ipython3",
   "version": "3.7.6"
  },
  "mimetype": "text/x-python",
  "name": "python",
  "npconvert_exporter": "python",
  "pygments_lexer": "ipython3",
  "version": 3
 },
 "nbformat": 4,
 "nbformat_minor": 4
}
