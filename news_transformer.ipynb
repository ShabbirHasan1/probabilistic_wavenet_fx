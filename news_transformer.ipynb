{
 "nbformat": 4,
 "nbformat_minor": 2,
 "metadata": {
  "language_info": {
   "name": "python",
   "codemirror_mode": {
    "name": "ipython",
    "version": 3
   },
   "version": "3.7.7-final"
  },
  "orig_nbformat": 2,
  "file_extension": ".py",
  "mimetype": "text/x-python",
  "name": "python",
  "npconvert_exporter": "python",
  "pygments_lexer": "ipython3",
  "version": 3,
  "kernelspec": {
   "name": "python3",
   "display_name": "Python 3"
  }
 },
 "cells": [
  {
   "cell_type": "code",
   "execution_count": 88,
   "metadata": {},
   "outputs": [],
   "source": [
    "import pandas as pd\n",
    "import numpy as np\n",
    "from datetime import datetime\n",
    "import string"
   ]
  },
  {
   "cell_type": "code",
   "execution_count": 89,
   "metadata": {},
   "outputs": [],
   "source": [
    "df = pd.read_csv('news_data/news_data.csv')"
   ]
  },
  {
   "cell_type": "code",
   "execution_count": 90,
   "metadata": {},
   "outputs": [
    {
     "output_type": "execute_result",
     "data": {
      "text/plain": "                           Date  \\\n0       2016, January 04, 07:00   \n1       2016, January 04, 08:15   \n2       2016, January 04, 08:45   \n3       2016, January 04, 08:50   \n4       2016, January 04, 08:55   \n...                         ...   \n12365  2019, December 30, 14:45   \n12366  2019, December 30, 15:00   \n12367  2019, December 31, 14:00   \n12368  2019, December 31, 14:00   \n12369  2019, December 31, 15:00   \n\n                                                   Event  Impact Previous  \\\n0                                 (Austria) Unemployment    High  359.30K   \n1                       (Spain) Markit Manufacturing PMI    High    53.10   \n2                       (Italy) Markit Manufacturing PMI    High    54.90   \n3                      (France) Markit Manufacturing PMI    High    51.60   \n4                     (Germany) Markit Manufacturing PMI    High    53.00   \n...                                                  ...     ...      ...   \n12365  (United States) Chicago Purchasing Managers' I...  Medium    46.30   \n12366           (United States) Pending Home Sales (MoM)  Medium    -1.3%   \n12367  (United States) S&P/Case-Shiller Home Price In...  Medium     2.1%   \n12368          (United States) Housing Price Index (MoM)  Medium     0.6%   \n12369                (United States) Consumer Confidence    High      NaN   \n\n      Consensus   Actual Currency  \n0           NaN  417.50K      EUR  \n1           NaN    53.00      EUR  \n2           NaN    55.60      EUR  \n3           NaN    51.40      EUR  \n4          53.0    53.20      EUR  \n...         ...      ...      ...  \n12365      48.0    48.90      USD  \n12366      1.1%     1.2%      USD  \n12367      2.2%     2.2%      USD  \n12368      0.3%     0.2%      USD  \n12369       NaN      NaN      USD  \n\n[12370 rows x 7 columns]",
      "text/html": "<div>\n<style scoped>\n    .dataframe tbody tr th:only-of-type {\n        vertical-align: middle;\n    }\n\n    .dataframe tbody tr th {\n        vertical-align: top;\n    }\n\n    .dataframe thead th {\n        text-align: right;\n    }\n</style>\n<table border=\"1\" class=\"dataframe\">\n  <thead>\n    <tr style=\"text-align: right;\">\n      <th></th>\n      <th>Date</th>\n      <th>Event</th>\n      <th>Impact</th>\n      <th>Previous</th>\n      <th>Consensus</th>\n      <th>Actual</th>\n      <th>Currency</th>\n    </tr>\n  </thead>\n  <tbody>\n    <tr>\n      <th>0</th>\n      <td>2016, January 04, 07:00</td>\n      <td>(Austria) Unemployment</td>\n      <td>High</td>\n      <td>359.30K</td>\n      <td>NaN</td>\n      <td>417.50K</td>\n      <td>EUR</td>\n    </tr>\n    <tr>\n      <th>1</th>\n      <td>2016, January 04, 08:15</td>\n      <td>(Spain) Markit Manufacturing PMI</td>\n      <td>High</td>\n      <td>53.10</td>\n      <td>NaN</td>\n      <td>53.00</td>\n      <td>EUR</td>\n    </tr>\n    <tr>\n      <th>2</th>\n      <td>2016, January 04, 08:45</td>\n      <td>(Italy) Markit Manufacturing PMI</td>\n      <td>High</td>\n      <td>54.90</td>\n      <td>NaN</td>\n      <td>55.60</td>\n      <td>EUR</td>\n    </tr>\n    <tr>\n      <th>3</th>\n      <td>2016, January 04, 08:50</td>\n      <td>(France) Markit Manufacturing PMI</td>\n      <td>High</td>\n      <td>51.60</td>\n      <td>NaN</td>\n      <td>51.40</td>\n      <td>EUR</td>\n    </tr>\n    <tr>\n      <th>4</th>\n      <td>2016, January 04, 08:55</td>\n      <td>(Germany) Markit Manufacturing PMI</td>\n      <td>High</td>\n      <td>53.00</td>\n      <td>53.0</td>\n      <td>53.20</td>\n      <td>EUR</td>\n    </tr>\n    <tr>\n      <th>...</th>\n      <td>...</td>\n      <td>...</td>\n      <td>...</td>\n      <td>...</td>\n      <td>...</td>\n      <td>...</td>\n      <td>...</td>\n    </tr>\n    <tr>\n      <th>12365</th>\n      <td>2019, December 30, 14:45</td>\n      <td>(United States) Chicago Purchasing Managers' I...</td>\n      <td>Medium</td>\n      <td>46.30</td>\n      <td>48.0</td>\n      <td>48.90</td>\n      <td>USD</td>\n    </tr>\n    <tr>\n      <th>12366</th>\n      <td>2019, December 30, 15:00</td>\n      <td>(United States) Pending Home Sales (MoM)</td>\n      <td>Medium</td>\n      <td>-1.3%</td>\n      <td>1.1%</td>\n      <td>1.2%</td>\n      <td>USD</td>\n    </tr>\n    <tr>\n      <th>12367</th>\n      <td>2019, December 31, 14:00</td>\n      <td>(United States) S&amp;P/Case-Shiller Home Price In...</td>\n      <td>Medium</td>\n      <td>2.1%</td>\n      <td>2.2%</td>\n      <td>2.2%</td>\n      <td>USD</td>\n    </tr>\n    <tr>\n      <th>12368</th>\n      <td>2019, December 31, 14:00</td>\n      <td>(United States) Housing Price Index (MoM)</td>\n      <td>Medium</td>\n      <td>0.6%</td>\n      <td>0.3%</td>\n      <td>0.2%</td>\n      <td>USD</td>\n    </tr>\n    <tr>\n      <th>12369</th>\n      <td>2019, December 31, 15:00</td>\n      <td>(United States) Consumer Confidence</td>\n      <td>High</td>\n      <td>NaN</td>\n      <td>NaN</td>\n      <td>NaN</td>\n      <td>USD</td>\n    </tr>\n  </tbody>\n</table>\n<p>12370 rows × 7 columns</p>\n</div>"
     },
     "metadata": {},
     "execution_count": 90
    }
   ],
   "source": [
    "df"
   ]
  },
  {
   "cell_type": "code",
   "execution_count": 91,
   "metadata": {},
   "outputs": [
    {
     "output_type": "execute_result",
     "data": {
      "text/plain": "499"
     },
     "metadata": {},
     "execution_count": 91
    }
   ],
   "source": [
    "# unique events\n",
    "len(df['Event'].unique())"
   ]
  },
  {
   "cell_type": "code",
   "execution_count": 92,
   "metadata": {},
   "outputs": [
    {
     "output_type": "execute_result",
     "data": {
      "text/plain": "217"
     },
     "metadata": {},
     "execution_count": 92
    }
   ],
   "source": [
    "# unique High impact events\n",
    "len(df.loc[df['Impact']=='High']['Event'].unique())"
   ]
  },
  {
   "cell_type": "code",
   "execution_count": 93,
   "metadata": {},
   "outputs": [],
   "source": [
    "# work with High impact events\n",
    "df = df.loc[df['Impact']=='High'].drop(columns=['Impact'])"
   ]
  },
  {
   "cell_type": "code",
   "execution_count": 94,
   "metadata": {},
   "outputs": [
    {
     "output_type": "execute_result",
     "data": {
      "text/plain": "(4026, 6)"
     },
     "metadata": {},
     "execution_count": 94
    }
   ],
   "source": [
    "df.shape"
   ]
  },
  {
   "cell_type": "code",
   "execution_count": 95,
   "metadata": {},
   "outputs": [],
   "source": [
    "# to lowercas\n",
    "df['Event'] = df['Event'].str.lower()\n",
    "# delete punctuation\n",
    "df['Event'] = df['Event'].apply(lambda x: x.translate(str.maketrans('','',string.punctuation)))\n",
    "# delete left/right spaces\n",
    "df['Event'] = df['Event'].str.strip()"
   ]
  },
  {
   "cell_type": "code",
   "execution_count": 96,
   "metadata": {},
   "outputs": [
    {
     "output_type": "execute_result",
     "data": {
      "text/plain": "33"
     },
     "metadata": {},
     "execution_count": 96
    }
   ],
   "source": [
    "# speeches - types\n",
    "len(df[df['Event'].str.contains(\"speech\", case=False)]['Event'].unique())"
   ]
  },
  {
   "cell_type": "code",
   "execution_count": 97,
   "metadata": {},
   "outputs": [],
   "source": [
    "# collapse speeches\n",
    "df.loc[(df['Event'].str.contains(\"speech\", case=False)) & (df['Currency']=='JPY'), 'Event'] = 'jpy speech'\n",
    "df.loc[(df['Event'].str.contains(\"speech\", case=False)) & (df['Currency']=='EUR'), 'Event'] = 'eur speech'\n",
    "df.loc[(df['Event'].str.contains(\"speech\", case=False)) & (df['Currency']=='GBP'), 'Event'] = 'gbp speech'\n",
    "df.loc[(df['Event'].str.contains(\"speech\", case=False)) & (df['Currency']=='USD'), 'Event'] = 'usd speech'"
   ]
  },
  {
   "cell_type": "code",
   "execution_count": 98,
   "metadata": {},
   "outputs": [
    {
     "output_type": "execute_result",
     "data": {
      "text/plain": "175"
     },
     "metadata": {},
     "execution_count": 98
    }
   ],
   "source": [
    "len(df['Event'].unique())"
   ]
  },
  {
   "cell_type": "code",
   "execution_count": 99,
   "metadata": {},
   "outputs": [],
   "source": [
    "# group rare events\n",
    "df.loc[(df.groupby('Event').filter(lambda x: len(x) <= 5).index), 'Event'] = 'an_event'\n",
    "\n",
    "df.loc[(df['Event']=='an_event') & (df['Currency']=='JPY'), 'Event'] = 'jpy event'\n",
    "df.loc[(df['Event']=='an_event') & (df['Currency']=='EUR'), 'Event'] = 'eur event'\n",
    "df.loc[(df['Event']=='an_event') & (df['Currency']=='GBP'), 'Event'] = 'gbp event'\n",
    "df.loc[(df['Event']=='an_event') & (df['Currency']=='USD'), 'Event'] = 'usd event'"
   ]
  },
  {
   "cell_type": "code",
   "execution_count": 100,
   "metadata": {},
   "outputs": [
    {
     "output_type": "execute_result",
     "data": {
      "text/plain": "101"
     },
     "metadata": {},
     "execution_count": 100
    }
   ],
   "source": [
    "len(df['Event'].unique())"
   ]
  },
  {
   "cell_type": "code",
   "execution_count": 101,
   "metadata": {},
   "outputs": [],
   "source": [
    "# NaN news to events / spare speeches\n",
    "df.loc[df['Previous'].isnull() & df['Consensus'].isnull() & df['Actual'].isnull() & (~df['Event'].str.contains('speech')) & (df['Currency']=='JPY'), 'Event'] = 'jpy event'\n",
    "df.loc[df['Previous'].isnull() & df['Consensus'].isnull() & df['Actual'].isnull() & (~df['Event'].str.contains('speech')) & (df['Currency']=='EUR'), 'Event'] = 'eur event'\n",
    "df.loc[df['Previous'].isnull() & df['Consensus'].isnull() & df['Actual'].isnull() & (~df['Event'].str.contains('speech')) & (df['Currency']=='GBP'), 'Event'] = 'gbp event'\n",
    "df.loc[df['Previous'].isnull() & df['Consensus'].isnull() & df['Actual'].isnull() & (~df['Event'].str.contains('speech')) & (df['Currency']=='USD'), 'Event'] = 'usd event'"
   ]
  },
  {
   "cell_type": "code",
   "execution_count": 102,
   "metadata": {},
   "outputs": [
    {
     "output_type": "execute_result",
     "data": {
      "text/plain": "usd speech    418\nusd event     192\ngbp speech    140\neur event     125\ngbp event     117\neur speech    108\njpy event      93\njpy speech     48\nName: Event, dtype: int64"
     },
     "metadata": {},
     "execution_count": 102
    }
   ],
   "source": [
    "df.loc[df['Previous'].isnull() & df['Consensus'].isnull() & df['Actual'].isnull()]['Event'].value_counts()"
   ]
  },
  {
   "cell_type": "code",
   "execution_count": 103,
   "metadata": {},
   "outputs": [
    {
     "output_type": "execute_result",
     "data": {
      "text/plain": "82"
     },
     "metadata": {},
     "execution_count": 103
    }
   ],
   "source": [
    "# and finaly we have 82 distinct event types\n",
    "len(df['Event'].unique())"
   ]
  },
  {
   "cell_type": "code",
   "execution_count": 104,
   "metadata": {},
   "outputs": [],
   "source": [
    "# get the numbers from the strings\n",
    "df['Previous'] = df['Previous'].str.extract('(\\d+\\.\\d+)', expand=False).astype(float)\n",
    "df['Consensus'] = df['Consensus'].str.extract('(\\d+\\.\\d+)', expand=False).astype(float)\n",
    "df['Actual'] = df['Actual'].str.extract('(\\d+\\.\\d+)', expand=False).astype(float)"
   ]
  },
  {
   "cell_type": "code",
   "execution_count": 105,
   "metadata": {},
   "outputs": [
    {
     "output_type": "execute_result",
     "data": {
      "text/plain": "                           Date  \\\n0       2016, January 04, 07:00   \n1       2016, January 04, 08:15   \n2       2016, January 04, 08:45   \n3       2016, January 04, 08:50   \n4       2016, January 04, 08:55   \n...                         ...   \n12351  2019, December 26, 13:30   \n12352  2019, December 26, 13:30   \n12357  2019, December 26, 23:30   \n12364  2019, December 30, 13:30   \n12369  2019, December 31, 15:00   \n\n                                                   Event  Previous  Consensus  \\\n0                                   austria unemployment    359.30        NaN   \n1                         spain markit manufacturing pmi     53.10        NaN   \n2                         italy markit manufacturing pmi     54.90        NaN   \n3                        france markit manufacturing pmi     51.60        NaN   \n4                       germany markit manufacturing pmi     53.00      53.00   \n...                                                  ...       ...        ...   \n12351               united states initial jobless claims    235.00     224.00   \n12352  united states initial jobless claims 4week ave...    225.75        NaN   \n12357                  japan tokyo cpi ex fresh food yoy      0.60       0.60   \n12364                  united states goods trade balance     66.80      68.75   \n12369                                          usd event       NaN        NaN   \n\n       Actual Currency  \n0      417.50      EUR  \n1       53.00      EUR  \n2       55.60      EUR  \n3       51.40      EUR  \n4       53.20      EUR  \n...       ...      ...  \n12351  222.00      USD  \n12352  228.00      USD  \n12357    0.80      JPY  \n12364   63.19      USD  \n12369     NaN      USD  \n\n[4026 rows x 6 columns]",
      "text/html": "<div>\n<style scoped>\n    .dataframe tbody tr th:only-of-type {\n        vertical-align: middle;\n    }\n\n    .dataframe tbody tr th {\n        vertical-align: top;\n    }\n\n    .dataframe thead th {\n        text-align: right;\n    }\n</style>\n<table border=\"1\" class=\"dataframe\">\n  <thead>\n    <tr style=\"text-align: right;\">\n      <th></th>\n      <th>Date</th>\n      <th>Event</th>\n      <th>Previous</th>\n      <th>Consensus</th>\n      <th>Actual</th>\n      <th>Currency</th>\n    </tr>\n  </thead>\n  <tbody>\n    <tr>\n      <th>0</th>\n      <td>2016, January 04, 07:00</td>\n      <td>austria unemployment</td>\n      <td>359.30</td>\n      <td>NaN</td>\n      <td>417.50</td>\n      <td>EUR</td>\n    </tr>\n    <tr>\n      <th>1</th>\n      <td>2016, January 04, 08:15</td>\n      <td>spain markit manufacturing pmi</td>\n      <td>53.10</td>\n      <td>NaN</td>\n      <td>53.00</td>\n      <td>EUR</td>\n    </tr>\n    <tr>\n      <th>2</th>\n      <td>2016, January 04, 08:45</td>\n      <td>italy markit manufacturing pmi</td>\n      <td>54.90</td>\n      <td>NaN</td>\n      <td>55.60</td>\n      <td>EUR</td>\n    </tr>\n    <tr>\n      <th>3</th>\n      <td>2016, January 04, 08:50</td>\n      <td>france markit manufacturing pmi</td>\n      <td>51.60</td>\n      <td>NaN</td>\n      <td>51.40</td>\n      <td>EUR</td>\n    </tr>\n    <tr>\n      <th>4</th>\n      <td>2016, January 04, 08:55</td>\n      <td>germany markit manufacturing pmi</td>\n      <td>53.00</td>\n      <td>53.00</td>\n      <td>53.20</td>\n      <td>EUR</td>\n    </tr>\n    <tr>\n      <th>...</th>\n      <td>...</td>\n      <td>...</td>\n      <td>...</td>\n      <td>...</td>\n      <td>...</td>\n      <td>...</td>\n    </tr>\n    <tr>\n      <th>12351</th>\n      <td>2019, December 26, 13:30</td>\n      <td>united states initial jobless claims</td>\n      <td>235.00</td>\n      <td>224.00</td>\n      <td>222.00</td>\n      <td>USD</td>\n    </tr>\n    <tr>\n      <th>12352</th>\n      <td>2019, December 26, 13:30</td>\n      <td>united states initial jobless claims 4week ave...</td>\n      <td>225.75</td>\n      <td>NaN</td>\n      <td>228.00</td>\n      <td>USD</td>\n    </tr>\n    <tr>\n      <th>12357</th>\n      <td>2019, December 26, 23:30</td>\n      <td>japan tokyo cpi ex fresh food yoy</td>\n      <td>0.60</td>\n      <td>0.60</td>\n      <td>0.80</td>\n      <td>JPY</td>\n    </tr>\n    <tr>\n      <th>12364</th>\n      <td>2019, December 30, 13:30</td>\n      <td>united states goods trade balance</td>\n      <td>66.80</td>\n      <td>68.75</td>\n      <td>63.19</td>\n      <td>USD</td>\n    </tr>\n    <tr>\n      <th>12369</th>\n      <td>2019, December 31, 15:00</td>\n      <td>usd event</td>\n      <td>NaN</td>\n      <td>NaN</td>\n      <td>NaN</td>\n      <td>USD</td>\n    </tr>\n  </tbody>\n</table>\n<p>4026 rows × 6 columns</p>\n</div>"
     },
     "metadata": {},
     "execution_count": 105
    }
   ],
   "source": [
    "df"
   ]
  },
  {
   "cell_type": "code",
   "execution_count": 106,
   "metadata": {},
   "outputs": [],
   "source": [
    "event_type_list = list(df['Event'].unique())"
   ]
  },
  {
   "cell_type": "code",
   "execution_count": 107,
   "metadata": {},
   "outputs": [
    {
     "output_type": "stream",
     "name": "stdout",
     "text": "austria unemployment\nspain markit manufacturing pmi\nitaly markit manufacturing pmi\nfrance markit manufacturing pmi\ngermany markit manufacturing pmi\ngreece markit manufacturing pmi\nunited states ism prices paid\nunited states ism manufacturing pmi\nspain unemployment change\ngermany unemployment change\neuropean monetary union consumer price index  core yoy\neuropean monetary union consumer price index yoy\nunited states adp employment change\nunited states trade balance\nunited states ism nonmanufacturing pmi\nusd event\nitaly unemployment\nunited states initial jobless claims\nunited states unemployment rate\nunited states nonfarm payrolls\njapan current account nsa\njpy speech\ngbp speech\nunited states jolts job openings\neur event\nunited kingdom boe mpc vote hike\nunited kingdom boe mpc vote unchanged\nunited kingdom boe mpc vote cut\nunited kingdom boe asset purchase facility\nunited kingdom boe interest rate decision\ngbp event\nunited states retail sales ex autos mom\nunited states retail sales mom\nunited states reutersmichigan consumer sentiment index\nunited states building permits mom\nunited states consumer price index yoy\nunited states consumer price index ex food  energy yoy\neuropean monetary union ecb interest rate decision\neur speech\nunited states existing home sales mom\nunited states consumer confidence\nunited states new home sales mom\nunited states fed interest rate decision\nunited states durable goods orders ex transportation\nunited states durable goods orders\njapan boj interest rate decision\njpy event\nunited states gross domestic product annualized\nunited states gross domestic product price index\nunited states goods trade balance\nusd speech\nunited kingdom niesr gdp estimate 3m\neuropean monetary union gross domestic product sa qoq\neuropean monetary union gross domestic product sa yoy\nunited kingdom core consumer price index yoy\nunited kingdom consumer price index yoy\nunited states core personal consumption expenditure  price index yoy\ngermany unemployment rate sa\neuropean monetary union ecb deposit rate decision\nunited kingdom consumer inflation expectations\nunited states building permits change\nunited states retail sales control group\nunited states michigan consumer sentiment index\nunited kingdom gross domestic product qoq\nunited states core personal consumption expenditures qoq\nunited states core personal consumption expenditure  price index mom\nunited kingdom average earnings including bonus 3moyr\ngermany harmonised index of consumer prices yoy\nunited kingdom average earnings excluding bonus 3moyr\nunited states average hourly earnings yoy\nunited kingdom ilo unemployment rate 3m\njapan tokyo cpi ex fresh food yoy\ngermany gross domestic product qoq\ngermany harmonized index of consumer prices yoy\nunited kingdom gross domestic product mom\nunited states durable goods orders ex defense\nunited states consumer price index ex food  energy mom\ngermany zew survey  economic sentiment\neuropean monetary union markit pmi composite\nunited states nondefense capital goods orders ex aircraft\njapan gross domestic product qoq\nunited states initial jobless claims 4week average\n"
    }
   ],
   "source": [
    "for event_type in event_type_list:\n",
    "    print(event_type)"
   ]
  },
  {
   "cell_type": "code",
   "execution_count": 108,
   "metadata": {},
   "outputs": [],
   "source": [
    "# convert speech and rare event numbers to 0.0\n",
    "no_number_events = ['usd speech', 'gbp speech', 'eur speech', 'jpy speech', 'usd event', 'gbp event', 'eur event', 'jpy event',]\n",
    "\n",
    "for event_type in no_number_events:\n",
    "    df.loc[df['Event']==event_type,['Previous','Consensus','Actual']] = 0.0"
   ]
  },
  {
   "cell_type": "code",
   "execution_count": 109,
   "metadata": {},
   "outputs": [
    {
     "output_type": "stream",
     "name": "stdout",
     "text": "False\n"
    }
   ],
   "source": [
    "# check if have event with only NaN data, that is a non-numeric event, NaN should be 0.0\n",
    "for event_type in event_type_list:\n",
    "    non_numerics = []\n",
    "    non_numerics.append(df[['Previous','Consensus','Actual']].loc[df['Event']==event_type].isnull().all().all())\n",
    "# have we any event_type with only NaN data?    \n",
    "print(any(non_numerics))"
   ]
  },
  {
   "cell_type": "code",
   "execution_count": 110,
   "metadata": {},
   "outputs": [
    {
     "output_type": "stream",
     "name": "stdout",
     "text": "False\n"
    }
   ],
   "source": [
    "# check if have row with only NaN data, that row should be estimated from earlier event\n",
    "for event_type in event_type_list:\n",
    "    empty_rows = []\n",
    "    empty_rows.append(df[['Previous','Consensus','Actual']].loc[df['Event']==event_type].isnull().all(axis='columns').any())\n",
    "# have we any row (event) with only NaN data?    \n",
    "print(any(empty_rows))"
   ]
  },
  {
   "cell_type": "code",
   "execution_count": 111,
   "metadata": {},
   "outputs": [],
   "source": [
    "# fill Actual and Consensus nans with Previous\n",
    "# this can lead to too high surprise :(\n",
    "df['Actual'].fillna(df['Previous'], inplace=True)\n",
    "df['Consensus'].fillna(df['Previous'], inplace=True)"
   ]
  },
  {
   "cell_type": "code",
   "execution_count": 112,
   "metadata": {},
   "outputs": [
    {
     "output_type": "execute_result",
     "data": {
      "text/plain": "                           Date  \\\n7843       2018, July 10, 08:30   \n8929   2018, November 21, 13:30   \n9680   2019, February 20, 11:00   \n9681   2019, February 20, 11:00   \n9682   2019, February 20, 11:00   \n12222  2019, December 12, 13:30   \n\n                                               Event  Previous  Consensus  \\\n7843       united kingdom gross domestic product mom       NaN        0.3   \n8929   united states durable goods orders ex defense       NaN        NaN   \n9680        united states retail sales control group       NaN        0.4   \n9681                  united states retail sales mom       NaN        0.1   \n9682         united states retail sales ex autos mom       NaN        0.1   \n12222           united states initial jobless claims       NaN      211.0   \n\n       Actual Currency  \n7843      0.3      GBP  \n8929      1.2      USD  \n9680      NaN      USD  \n9681      NaN      USD  \n9682      NaN      USD  \n12222     NaN      USD  ",
      "text/html": "<div>\n<style scoped>\n    .dataframe tbody tr th:only-of-type {\n        vertical-align: middle;\n    }\n\n    .dataframe tbody tr th {\n        vertical-align: top;\n    }\n\n    .dataframe thead th {\n        text-align: right;\n    }\n</style>\n<table border=\"1\" class=\"dataframe\">\n  <thead>\n    <tr style=\"text-align: right;\">\n      <th></th>\n      <th>Date</th>\n      <th>Event</th>\n      <th>Previous</th>\n      <th>Consensus</th>\n      <th>Actual</th>\n      <th>Currency</th>\n    </tr>\n  </thead>\n  <tbody>\n    <tr>\n      <th>7843</th>\n      <td>2018, July 10, 08:30</td>\n      <td>united kingdom gross domestic product mom</td>\n      <td>NaN</td>\n      <td>0.3</td>\n      <td>0.3</td>\n      <td>GBP</td>\n    </tr>\n    <tr>\n      <th>8929</th>\n      <td>2018, November 21, 13:30</td>\n      <td>united states durable goods orders ex defense</td>\n      <td>NaN</td>\n      <td>NaN</td>\n      <td>1.2</td>\n      <td>USD</td>\n    </tr>\n    <tr>\n      <th>9680</th>\n      <td>2019, February 20, 11:00</td>\n      <td>united states retail sales control group</td>\n      <td>NaN</td>\n      <td>0.4</td>\n      <td>NaN</td>\n      <td>USD</td>\n    </tr>\n    <tr>\n      <th>9681</th>\n      <td>2019, February 20, 11:00</td>\n      <td>united states retail sales mom</td>\n      <td>NaN</td>\n      <td>0.1</td>\n      <td>NaN</td>\n      <td>USD</td>\n    </tr>\n    <tr>\n      <th>9682</th>\n      <td>2019, February 20, 11:00</td>\n      <td>united states retail sales ex autos mom</td>\n      <td>NaN</td>\n      <td>0.1</td>\n      <td>NaN</td>\n      <td>USD</td>\n    </tr>\n    <tr>\n      <th>12222</th>\n      <td>2019, December 12, 13:30</td>\n      <td>united states initial jobless claims</td>\n      <td>NaN</td>\n      <td>211.0</td>\n      <td>NaN</td>\n      <td>USD</td>\n    </tr>\n  </tbody>\n</table>\n</div>"
     },
     "metadata": {},
     "execution_count": 112
    }
   ],
   "source": [
    "# we don't have too many rows with nans after the transformations\n",
    "df[pd.isnull(df).any(axis=1)]"
   ]
  },
  {
   "cell_type": "code",
   "execution_count": 113,
   "metadata": {},
   "outputs": [],
   "source": [
    "# convert the above rows to events\n",
    "df.loc[(pd.isnull(df).any(axis=1)) & (df['Currency']=='USD'), 'Event'] = 'usd event'\n",
    "df.loc[(pd.isnull(df).any(axis=1)) & (df['Currency']=='GBP'), 'Event'] = 'gbp event'\n",
    "\n",
    "# convert speech and rare event numbers to 0.0\n",
    "no_number_events = ['usd speech', 'gbp speech', 'eur speech', 'jpy speech', 'usd event', 'gbp event', 'eur event', 'jpy event',]\n",
    "\n",
    "for event_type in no_number_events:\n",
    "    df.loc[df['Event']==event_type,['Previous','Consensus','Actual']] = 0.0"
   ]
  },
  {
   "cell_type": "code",
   "execution_count": 114,
   "metadata": {},
   "outputs": [],
   "source": [
    "# create new features\n",
    "# only + numbers and +- numbers would need different scaling\n",
    "df['change'] = df['Actual'] - df['Previous']\n",
    "# df['change_pc'] = df['Actual'] / df['Previous']\n",
    "df['surp'] = df['Actual'] - df['Consensus']\n",
    "# df['surp_pc'] = df['Actual'] / df['Consensus']"
   ]
  },
  {
   "cell_type": "code",
   "execution_count": 115,
   "metadata": {},
   "outputs": [
    {
     "output_type": "execute_result",
     "data": {
      "text/plain": "Empty DataFrame\nColumns: [Date, Event, Previous, Consensus, Actual, Currency, change, surp]\nIndex: []",
      "text/html": "<div>\n<style scoped>\n    .dataframe tbody tr th:only-of-type {\n        vertical-align: middle;\n    }\n\n    .dataframe tbody tr th {\n        vertical-align: top;\n    }\n\n    .dataframe thead th {\n        text-align: right;\n    }\n</style>\n<table border=\"1\" class=\"dataframe\">\n  <thead>\n    <tr style=\"text-align: right;\">\n      <th></th>\n      <th>Date</th>\n      <th>Event</th>\n      <th>Previous</th>\n      <th>Consensus</th>\n      <th>Actual</th>\n      <th>Currency</th>\n      <th>change</th>\n      <th>surp</th>\n    </tr>\n  </thead>\n  <tbody>\n  </tbody>\n</table>\n</div>"
     },
     "metadata": {},
     "execution_count": 115
    }
   ],
   "source": [
    "# no more nan rows :)\n",
    "df[pd.isnull(df).any(axis=1)]"
   ]
  },
  {
   "cell_type": "code",
   "execution_count": 116,
   "metadata": {},
   "outputs": [],
   "source": [
    "# set proper datetime format\n",
    "df['Date'] = pd.to_datetime(df['Date'], infer_datetime_format=True)"
   ]
  },
  {
   "cell_type": "code",
   "execution_count": 117,
   "metadata": {},
   "outputs": [
    {
     "output_type": "execute_result",
     "data": {
      "text/plain": "                     Date                                              Event  \\\n0     2016-01-04 07:00:00                               austria unemployment   \n1     2016-01-04 08:15:00                     spain markit manufacturing pmi   \n2     2016-01-04 08:45:00                     italy markit manufacturing pmi   \n3     2016-01-04 08:50:00                    france markit manufacturing pmi   \n4     2016-01-04 08:55:00                   germany markit manufacturing pmi   \n...                   ...                                                ...   \n12351 2019-12-26 13:30:00               united states initial jobless claims   \n12352 2019-12-26 13:30:00  united states initial jobless claims 4week ave...   \n12357 2019-12-26 23:30:00                  japan tokyo cpi ex fresh food yoy   \n12364 2019-12-30 13:30:00                  united states goods trade balance   \n12369 2019-12-31 15:00:00                                          usd event   \n\n       Previous  Consensus  Actual Currency  change   surp  \n0        359.30     359.30  417.50      EUR   58.20  58.20  \n1         53.10      53.10   53.00      EUR   -0.10  -0.10  \n2         54.90      54.90   55.60      EUR    0.70   0.70  \n3         51.60      51.60   51.40      EUR   -0.20  -0.20  \n4         53.00      53.00   53.20      EUR    0.20   0.20  \n...         ...        ...     ...      ...     ...    ...  \n12351    235.00     224.00  222.00      USD  -13.00  -2.00  \n12352    225.75     225.75  228.00      USD    2.25   2.25  \n12357      0.60       0.60    0.80      JPY    0.20   0.20  \n12364     66.80      68.75   63.19      USD   -3.61  -5.56  \n12369      0.00       0.00    0.00      USD    0.00   0.00  \n\n[4026 rows x 8 columns]",
      "text/html": "<div>\n<style scoped>\n    .dataframe tbody tr th:only-of-type {\n        vertical-align: middle;\n    }\n\n    .dataframe tbody tr th {\n        vertical-align: top;\n    }\n\n    .dataframe thead th {\n        text-align: right;\n    }\n</style>\n<table border=\"1\" class=\"dataframe\">\n  <thead>\n    <tr style=\"text-align: right;\">\n      <th></th>\n      <th>Date</th>\n      <th>Event</th>\n      <th>Previous</th>\n      <th>Consensus</th>\n      <th>Actual</th>\n      <th>Currency</th>\n      <th>change</th>\n      <th>surp</th>\n    </tr>\n  </thead>\n  <tbody>\n    <tr>\n      <th>0</th>\n      <td>2016-01-04 07:00:00</td>\n      <td>austria unemployment</td>\n      <td>359.30</td>\n      <td>359.30</td>\n      <td>417.50</td>\n      <td>EUR</td>\n      <td>58.20</td>\n      <td>58.20</td>\n    </tr>\n    <tr>\n      <th>1</th>\n      <td>2016-01-04 08:15:00</td>\n      <td>spain markit manufacturing pmi</td>\n      <td>53.10</td>\n      <td>53.10</td>\n      <td>53.00</td>\n      <td>EUR</td>\n      <td>-0.10</td>\n      <td>-0.10</td>\n    </tr>\n    <tr>\n      <th>2</th>\n      <td>2016-01-04 08:45:00</td>\n      <td>italy markit manufacturing pmi</td>\n      <td>54.90</td>\n      <td>54.90</td>\n      <td>55.60</td>\n      <td>EUR</td>\n      <td>0.70</td>\n      <td>0.70</td>\n    </tr>\n    <tr>\n      <th>3</th>\n      <td>2016-01-04 08:50:00</td>\n      <td>france markit manufacturing pmi</td>\n      <td>51.60</td>\n      <td>51.60</td>\n      <td>51.40</td>\n      <td>EUR</td>\n      <td>-0.20</td>\n      <td>-0.20</td>\n    </tr>\n    <tr>\n      <th>4</th>\n      <td>2016-01-04 08:55:00</td>\n      <td>germany markit manufacturing pmi</td>\n      <td>53.00</td>\n      <td>53.00</td>\n      <td>53.20</td>\n      <td>EUR</td>\n      <td>0.20</td>\n      <td>0.20</td>\n    </tr>\n    <tr>\n      <th>...</th>\n      <td>...</td>\n      <td>...</td>\n      <td>...</td>\n      <td>...</td>\n      <td>...</td>\n      <td>...</td>\n      <td>...</td>\n      <td>...</td>\n    </tr>\n    <tr>\n      <th>12351</th>\n      <td>2019-12-26 13:30:00</td>\n      <td>united states initial jobless claims</td>\n      <td>235.00</td>\n      <td>224.00</td>\n      <td>222.00</td>\n      <td>USD</td>\n      <td>-13.00</td>\n      <td>-2.00</td>\n    </tr>\n    <tr>\n      <th>12352</th>\n      <td>2019-12-26 13:30:00</td>\n      <td>united states initial jobless claims 4week ave...</td>\n      <td>225.75</td>\n      <td>225.75</td>\n      <td>228.00</td>\n      <td>USD</td>\n      <td>2.25</td>\n      <td>2.25</td>\n    </tr>\n    <tr>\n      <th>12357</th>\n      <td>2019-12-26 23:30:00</td>\n      <td>japan tokyo cpi ex fresh food yoy</td>\n      <td>0.60</td>\n      <td>0.60</td>\n      <td>0.80</td>\n      <td>JPY</td>\n      <td>0.20</td>\n      <td>0.20</td>\n    </tr>\n    <tr>\n      <th>12364</th>\n      <td>2019-12-30 13:30:00</td>\n      <td>united states goods trade balance</td>\n      <td>66.80</td>\n      <td>68.75</td>\n      <td>63.19</td>\n      <td>USD</td>\n      <td>-3.61</td>\n      <td>-5.56</td>\n    </tr>\n    <tr>\n      <th>12369</th>\n      <td>2019-12-31 15:00:00</td>\n      <td>usd event</td>\n      <td>0.00</td>\n      <td>0.00</td>\n      <td>0.00</td>\n      <td>USD</td>\n      <td>0.00</td>\n      <td>0.00</td>\n    </tr>\n  </tbody>\n</table>\n<p>4026 rows × 8 columns</p>\n</div>"
     },
     "metadata": {},
     "execution_count": 117
    }
   ],
   "source": [
    "df"
   ]
  },
  {
   "cell_type": "code",
   "execution_count": 118,
   "metadata": {},
   "outputs": [],
   "source": [
    "# delete austria, greece, italy, spain events\n",
    "df = df.loc[  (~df['Event'].str.contains('italy')) & \n",
    "                        (~df['Event'].str.contains('spain')) & \n",
    "                        (~df['Event'].str.contains('austria')) & \n",
    "                        (~df['Event'].str.contains('greece'))]"
   ]
  },
  {
   "cell_type": "code",
   "execution_count": 66,
   "metadata": {},
   "outputs": [],
   "source": [
    "df.to_csv(f'news_data/news_data_tight.csv', index=False)"
   ]
  },
  {
   "cell_type": "code",
   "execution_count": null,
   "metadata": {},
   "outputs": [],
   "source": []
  },
  {
   "cell_type": "code",
   "execution_count": 67,
   "metadata": {},
   "outputs": [
    {
     "output_type": "execute_result",
     "data": {
      "text/plain": "37"
     },
     "metadata": {},
     "execution_count": 67
    }
   ],
   "source": [
    "len(df.loc[df['Currency']=='USD']['Event'].unique())"
   ]
  },
  {
   "cell_type": "code",
   "execution_count": 68,
   "metadata": {},
   "outputs": [
    {
     "output_type": "execute_result",
     "data": {
      "text/plain": "6"
     },
     "metadata": {},
     "execution_count": 68
    }
   ],
   "source": [
    "len(df.loc[df['Currency']=='JPY']['Event'].unique())"
   ]
  },
  {
   "cell_type": "code",
   "execution_count": 69,
   "metadata": {},
   "outputs": [
    {
     "output_type": "execute_result",
     "data": {
      "text/plain": "17"
     },
     "metadata": {},
     "execution_count": 69
    }
   ],
   "source": [
    "len(df.loc[df['Currency']=='EUR']['Event'].unique())"
   ]
  },
  {
   "cell_type": "code",
   "execution_count": 70,
   "metadata": {},
   "outputs": [
    {
     "output_type": "execute_result",
     "data": {
      "text/plain": "16"
     },
     "metadata": {},
     "execution_count": 70
    }
   ],
   "source": [
    "len(df.loc[df['Currency']=='GBP']['Event'].unique())"
   ]
  },
  {
   "cell_type": "code",
   "execution_count": null,
   "metadata": {},
   "outputs": [],
   "source": []
  }
 ]
}